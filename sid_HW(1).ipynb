{
  "cells": [
    {
      "cell_type": "markdown",
      "source": [
        "<div align=\"right\" dir=\"rtl\">\n",
        "<h1> Recommender System </h1>\n",
        "در این تمرین قصد داشتیم که یک سرویس توصیه کننده بازی کاربر به کاربر را به کمک اسپارک پیاده سازی کنیم که رویکرد مورد استفاده ما در این پیاده سازی، رویکرد collabrative filtering بوده است زیرا در این جا اطلاعات خوبی از کاربران داریم. خود این روش نیز به دو دسته تقسیم میگردد: user based & item based که در اینجا روش مبتنی بر کاربر مدنظر ما بوده است\n",
        "</div>\n",
        "\n",
        "\n"
      ],
      "metadata": {
        "id": "BqgTiT0NJd4A"
      }
    },
    {
      "cell_type": "markdown",
      "source": [
        "<div align=\"right\" dir=\"rtl\">\n",
        "در ابتدا لازم بود که کتابخانه pyspark را به پروژه اضافه کنیم تا از آن جهت پیاده¬سازی اسپارک استفاده کنیم\n",
        "</div>"
      ],
      "metadata": {
        "id": "mYZubC0nLiEg"
      }
    },
    {
      "cell_type": "code",
      "execution_count": 1,
      "metadata": {
        "colab": {
          "base_uri": "https://localhost:8080/"
        },
        "id": "iyULxHt4CKjn",
        "outputId": "4d8f4953-a295-4fdc-aba4-66c942d2f860"
      },
      "outputs": [
        {
          "output_type": "stream",
          "name": "stdout",
          "text": [
            "Looking in indexes: https://pypi.org/simple, https://us-python.pkg.dev/colab-wheels/public/simple/\n",
            "Collecting pyspark\n",
            "  Downloading pyspark-3.3.1.tar.gz (281.4 MB)\n",
            "\u001b[2K     \u001b[90m━━━━━━━━━━━━━━━━━━━━━━━━━━━━━━━━━━━━━━━\u001b[0m \u001b[32m281.4/281.4 MB\u001b[0m \u001b[31m4.3 MB/s\u001b[0m eta \u001b[36m0:00:00\u001b[0m\n",
            "\u001b[?25h  Preparing metadata (setup.py) ... \u001b[?25l\u001b[?25hdone\n",
            "Collecting py4j==0.10.9.5\n",
            "  Downloading py4j-0.10.9.5-py2.py3-none-any.whl (199 kB)\n",
            "\u001b[2K     \u001b[90m━━━━━━━━━━━━━━━━━━━━━━━━━━━━━━━━━━━━━━\u001b[0m \u001b[32m199.7/199.7 KB\u001b[0m \u001b[31m22.7 MB/s\u001b[0m eta \u001b[36m0:00:00\u001b[0m\n",
            "\u001b[?25hBuilding wheels for collected packages: pyspark\n",
            "  Building wheel for pyspark (setup.py) ... \u001b[?25l\u001b[?25hdone\n",
            "  Created wheel for pyspark: filename=pyspark-3.3.1-py2.py3-none-any.whl size=281845512 sha256=e55017492f1ebb2c0bb5e0ad7d211197088ea5347e7b355461a509764e7e8be1\n",
            "  Stored in directory: /root/.cache/pip/wheels/43/dc/11/ec201cd671da62fa9c5cc77078235e40722170ceba231d7598\n",
            "Successfully built pyspark\n",
            "Installing collected packages: py4j, pyspark\n",
            "Successfully installed py4j-0.10.9.5 pyspark-3.3.1\n"
          ]
        }
      ],
      "source": [
        "pip install pyspark"
      ]
    },
    {
      "cell_type": "markdown",
      "source": [
        "\n",
        "<div align=\"right\" dir=\"rtl\">\n",
        "در مرحله بعد نیاز به یک evaluator نیاز داشتیم که از رگرسیون خود کتابخانه pyspark  استفاده نمودیم\n",
        "</div>\n"
      ],
      "metadata": {
        "id": "kV9b33JjMAoO"
      }
    },
    {
      "cell_type": "code",
      "execution_count": 2,
      "metadata": {
        "id": "fq9vNK91PY03"
      },
      "outputs": [],
      "source": [
        "from pyspark.ml.evaluation import RegressionEvaluator"
      ]
    },
    {
      "cell_type": "markdown",
      "source": [
        "<div align=\"right\" dir=\"rtl\">\n",
        "اما برای هندل کردن بحث recommendation از ALS استفاد نمودیم. ALS خودش مخفف Alternative Least Square\t است که ما از آن جهت محاسبه میزان مشابهت انجام توصیه استفاده می¬کنیم. ALS ابزارهای مختلفی در اختیار ما می¬گذارد که کار انجام توصیه و ساخت ابزار توصیه گر را آسان می¬سازد\n",
        "</div>\n"
      ],
      "metadata": {
        "id": "FJSHoWg7M7Sx"
      }
    },
    {
      "cell_type": "code",
      "execution_count": 3,
      "metadata": {
        "id": "-AXXmbroPjJJ"
      },
      "outputs": [],
      "source": [
        "from pyspark.ml.recommendation import ALS"
      ]
    },
    {
      "cell_type": "markdown",
      "source": [
        "\n",
        "<div align=\"right\" dir=\"rtl\">\n",
        "در مرحله بعد لازم است که یک سشن اسپارک جهت استفاده از اسپارک ایجاد کنیم\n",
        "</div>\n",
        " \n"
      ],
      "metadata": {
        "id": "HzxOiHKtNJDk"
      }
    },
    {
      "cell_type": "code",
      "execution_count": 4,
      "metadata": {
        "id": "S8IaqSHjPqvn"
      },
      "outputs": [],
      "source": [
        "from pyspark.sql import SparkSession"
      ]
    },
    {
      "cell_type": "code",
      "execution_count": 5,
      "metadata": {
        "id": "oqHCJxVVPq2w"
      },
      "outputs": [],
      "source": [
        "spark = SparkSession.builder.appName(\"userToUserRecommender\").getOrCreate()"
      ]
    },
    {
      "cell_type": "markdown",
      "source": [
        "\n",
        "<div align=\"right\" dir=\"rtl\">\n",
        "حال باید فایل¬های مربوط به دیتاست بازی¬ها و نمرات آن¬ها را توسط اسپارک بخوانیم تا RDD از آن¬ها ساخته بشود. header = true برای این است که سطر اول به عنوان هدر ست گردد و inferschema = True نیز برای آن است که خود اسپارک به شکل اتومات تایپ داده¬ها را متوجه گردد.\n",
        "</div>\n"
      ],
      "metadata": {
        "id": "YA4pBK_lNtp7"
      }
    },
    {
      "cell_type": "code",
      "execution_count": 6,
      "metadata": {
        "id": "0_TywTSKRtUf"
      },
      "outputs": [],
      "source": [
        "ratings_df = spark.read.csv(\"ratings.csv\", inferSchema= True, header = True)"
      ]
    },
    {
      "cell_type": "code",
      "execution_count": 7,
      "metadata": {
        "id": "eYFV4XFbSJtw"
      },
      "outputs": [],
      "source": [
        "games_df = spark.read.csv(\"games.csv\", inferSchema= True, header = True)"
      ]
    },
    {
      "cell_type": "markdown",
      "source": [
        "\n",
        "<div align=\"right\" dir=\"rtl\">\n",
        "حال میخواهیم که نگاهی به دیتاست¬هایمان بیاندازیم درنتیجه 10 تا رکورد از هرکدام را نمایش می¬دهیم. همچنین دستور دیسکرایب نیز یک خلاصه از دیتاستمان شامل میانگین، تعداد ، انحراف معیار و حداقل و حداکثر داده¬ها به ما می¬دهد\n",
        "</div>\n",
        " \n"
      ],
      "metadata": {
        "id": "A37hn4MlOzbd"
      }
    },
    {
      "cell_type": "code",
      "execution_count": 8,
      "metadata": {
        "id": "4G4EC2-0S2FU",
        "colab": {
          "base_uri": "https://localhost:8080/"
        },
        "outputId": "5af10e8a-d5c6-48ad-c55a-c79fa2849c32"
      },
      "outputs": [
        {
          "output_type": "stream",
          "name": "stdout",
          "text": [
            "+-------+-------+------+\n",
            "|game_id|user_id|rating|\n",
            "+-------+-------+------+\n",
            "|      1|    314|     5|\n",
            "|      1|    439|     3|\n",
            "|      1|    588|     5|\n",
            "|      1|   1169|     4|\n",
            "|      1|   1185|     4|\n",
            "|      1|   2077|     4|\n",
            "|      1|   2487|     4|\n",
            "|      1|   2900|     5|\n",
            "|      1|   3662|     4|\n",
            "|      1|   3922|     5|\n",
            "+-------+-------+------+\n",
            "only showing top 10 rows\n",
            "\n",
            "+-------+-----------------+------------------+------------------+\n",
            "|summary|          game_id|           user_id|            rating|\n",
            "+-------+-----------------+------------------+------------------+\n",
            "|  count|           981548|            981548|            981548|\n",
            "|   mean|4943.316270829343|25616.592174809586|3.8564950465998606|\n",
            "| stddev|2873.219878464268|15228.359436640818|0.9839536925631116|\n",
            "|    min|                1|                 1|                 1|\n",
            "|    max|            10000|             53424|                 5|\n",
            "+-------+-----------------+------------------+------------------+\n",
            "\n"
          ]
        }
      ],
      "source": [
        "ratings_df.show(10)\n",
        "ratings_df.describe().show()"
      ]
    },
    {
      "cell_type": "code",
      "execution_count": 9,
      "metadata": {
        "id": "1KKVdJhHTL1-",
        "colab": {
          "base_uri": "https://localhost:8080/"
        },
        "outputId": "b4fb479b-6202-4b17-e162-77bfbcfdd777"
      },
      "outputs": [
        {
          "output_type": "stream",
          "name": "stdout",
          "text": [
            "+-------+--------------------+------------+--------------------+--------------------+\n",
            "|game_id|                name|release_date|             summary|          meta_score|\n",
            "+-------+--------------------+------------+--------------------+--------------------+\n",
            "|      1|The Legend of Zel...|   23-Nov-98|As a young boy, L...|                  99|\n",
            "|      2|Tony Hawk's Pro S...|   20-Sep-00|As most major pub...|                  98|\n",
            "|      3| Grand Theft Auto IV|   29-Apr-08|\"[Metacritic's 20...| fresh off the bo...|\n",
            "|      4|         SoulCalibur|    8-Sep-99|This is a tale of...|                  98|\n",
            "|      5|  Super Mario Galaxy|   12-Nov-07|[Metacritic's 200...|                  97|\n",
            "|      6|Super Mario Galaxy 2|   23-May-10|Super Mario Galax...|                  97|\n",
            "|      7|Red Dead Redempti...|   26-Oct-18|Developed by the ...|                  97|\n",
            "|      8|  Grand Theft Auto V|   18-Nov-14|Grand Theft Auto ...|                  97|\n",
            "|      9|Disco Elysium: Th...|   30-Mar-21|Disco Elysium - T...|                  97|\n",
            "|     10|The Legend of Zel...|    3-Mar-17|Forget everything...|                  97|\n",
            "+-------+--------------------+------------+--------------------+--------------------+\n",
            "only showing top 10 rows\n",
            "\n",
            "+-------+------------------+--------------------+------------+--------------------+--------------------+\n",
            "|summary|           game_id|                name|release_date|             summary|          meta_score|\n",
            "+-------+------------------+--------------------+------------+--------------------+--------------------+\n",
            "|  count|             10000|               10000|       10000|                9917|               10000|\n",
            "|   mean|            5000.5|               140.0|        null|                null|   75.18953229398663|\n",
            "| stddev|2886.8956799071675|                null|        null|                null|   7.977006548955864|\n",
            "|    min|                 1|              #DRIVE|    1-Apr-05|\"\"\"Bushido\"\" is t...| \"\"Call Me Maybe\"...|\n",
            "|    max|             10000|void tRrLM(); //V...|    9-Sep-98|“Massira” is a st...|: which allows tw...|\n",
            "+-------+------------------+--------------------+------------+--------------------+--------------------+\n",
            "\n"
          ]
        }
      ],
      "source": [
        "games_df.show(10)\n",
        "games_df.describe().show()"
      ]
    },
    {
      "cell_type": "markdown",
      "source": [
        "\n",
        "<div align=\"right\" dir=\"rtl\">\n",
        "حال برای اینکه بتوانیم برروی دیتاست¬هایمان که در اسپارک قرار دادیم، به راحتی بتوانیم کوئری بزنیم، از آن¬ها یک  Table ایجاد می¬کنیم تا در ادامه بتوانیم از آن¬ها به شکل مناسب استفاده کنیم\n",
        "</div>\n"
      ],
      "metadata": {
        "id": "5lBWaalIPM3c"
      }
    },
    {
      "cell_type": "code",
      "execution_count": 10,
      "metadata": {
        "id": "HR5qbzhMVNXw",
        "colab": {
          "base_uri": "https://localhost:8080/"
        },
        "outputId": "c58556b6-6906-4724-ef46-ddf4686c6444"
      },
      "outputs": [
        {
          "output_type": "stream",
          "name": "stderr",
          "text": [
            "/usr/local/lib/python3.8/dist-packages/pyspark/sql/dataframe.py:229: FutureWarning: Deprecated in 2.0, use createOrReplaceTempView instead.\n",
            "  warnings.warn(\"Deprecated in 2.0, use createOrReplaceTempView instead.\", FutureWarning)\n"
          ]
        }
      ],
      "source": [
        "ratings_df.registerTempTable(\"Ratings\")\n",
        "games_df.registerTempTable(\"Games\")"
      ]
    },
    {
      "cell_type": "markdown",
      "source": [
        "<div align=\"right\" dir=\"rtl\">\n",
        "در این تسک توصیه کننده ما، دیتاست اصلی مورد استفاده ما، دیتاست ratingها هست و دیتاست بازی¬ها صرفا اطلاعات بیشتری از بازی را به ما می¬دهد در نتیجه آن¬ها را جوین می¬کنیم و در قالب یک RDD نگه می¬داریم. عملیات جوین براساس آیدی بازی¬ها صورت می¬گیرد\n",
        "همچنین نمونه نرمالایز شده¬ای از آن را  نیز نگه می¬داریم که به روش min-max آن را نرمالایز کرده¬ایم که فرمول آن به صورت زیر است.\n",
        "<br>\n",
        "X – Xmin / Xmax - Xmin\n",
        "</div>\n",
        "\n",
        "\n"
      ],
      "metadata": {
        "id": "4JF4NvQRP5Rr"
      }
    },
    {
      "cell_type": "code",
      "execution_count": 11,
      "metadata": {
        "id": "_KpI_caKZxxm",
        "colab": {
          "base_uri": "https://localhost:8080/"
        },
        "outputId": "be6c8628-1440-425d-d25d-849ee4aec718"
      },
      "outputs": [
        {
          "output_type": "stream",
          "name": "stdout",
          "text": [
            "+-------+-------+------+--------------------+------------+--------------------+----------+\n",
            "|game_id|user_id|rating|                name|release_date|             summary|meta_score|\n",
            "+-------+-------+------+--------------------+------------+--------------------+----------+\n",
            "|      1|    314|     5|The Legend of Zel...|   23-Nov-98|As a young boy, L...|        99|\n",
            "|      1|    439|     3|The Legend of Zel...|   23-Nov-98|As a young boy, L...|        99|\n",
            "|      1|    588|     5|The Legend of Zel...|   23-Nov-98|As a young boy, L...|        99|\n",
            "|      1|   1169|     4|The Legend of Zel...|   23-Nov-98|As a young boy, L...|        99|\n",
            "|      1|   1185|     4|The Legend of Zel...|   23-Nov-98|As a young boy, L...|        99|\n",
            "|      1|   2077|     4|The Legend of Zel...|   23-Nov-98|As a young boy, L...|        99|\n",
            "|      1|   2487|     4|The Legend of Zel...|   23-Nov-98|As a young boy, L...|        99|\n",
            "|      1|   2900|     5|The Legend of Zel...|   23-Nov-98|As a young boy, L...|        99|\n",
            "|      1|   3662|     4|The Legend of Zel...|   23-Nov-98|As a young boy, L...|        99|\n",
            "|      1|   3922|     5|The Legend of Zel...|   23-Nov-98|As a young boy, L...|        99|\n",
            "|      1|   5379|     5|The Legend of Zel...|   23-Nov-98|As a young boy, L...|        99|\n",
            "|      1|   5461|     3|The Legend of Zel...|   23-Nov-98|As a young boy, L...|        99|\n",
            "|      1|   5885|     5|The Legend of Zel...|   23-Nov-98|As a young boy, L...|        99|\n",
            "|      1|   6630|     5|The Legend of Zel...|   23-Nov-98|As a young boy, L...|        99|\n",
            "|      1|   7563|     3|The Legend of Zel...|   23-Nov-98|As a young boy, L...|        99|\n",
            "|      1|   9246|     1|The Legend of Zel...|   23-Nov-98|As a young boy, L...|        99|\n",
            "|      1|  10140|     4|The Legend of Zel...|   23-Nov-98|As a young boy, L...|        99|\n",
            "|      1|  10146|     5|The Legend of Zel...|   23-Nov-98|As a young boy, L...|        99|\n",
            "|      1|  10246|     4|The Legend of Zel...|   23-Nov-98|As a young boy, L...|        99|\n",
            "|      1|  10335|     4|The Legend of Zel...|   23-Nov-98|As a young boy, L...|        99|\n",
            "+-------+-------+------+--------------------+------------+--------------------+----------+\n",
            "only showing top 20 rows\n",
            "\n",
            "+-------+-------+------+--------------------+------------+--------------------+----------+\n",
            "|game_id|user_id|rating|                name|release_date|             summary|meta_score|\n",
            "+-------+-------+------+--------------------+------------+--------------------+----------+\n",
            "|      1|    314|   1.0|The Legend of Zel...|   23-Nov-98|As a young boy, L...|        99|\n",
            "|      1|    439|   0.6|The Legend of Zel...|   23-Nov-98|As a young boy, L...|        99|\n",
            "|      1|    588|   1.0|The Legend of Zel...|   23-Nov-98|As a young boy, L...|        99|\n",
            "|      1|   1169|   0.8|The Legend of Zel...|   23-Nov-98|As a young boy, L...|        99|\n",
            "|      1|   1185|   0.8|The Legend of Zel...|   23-Nov-98|As a young boy, L...|        99|\n",
            "|      1|   2077|   0.8|The Legend of Zel...|   23-Nov-98|As a young boy, L...|        99|\n",
            "|      1|   2487|   0.8|The Legend of Zel...|   23-Nov-98|As a young boy, L...|        99|\n",
            "|      1|   2900|   1.0|The Legend of Zel...|   23-Nov-98|As a young boy, L...|        99|\n",
            "|      1|   3662|   0.8|The Legend of Zel...|   23-Nov-98|As a young boy, L...|        99|\n",
            "|      1|   3922|   1.0|The Legend of Zel...|   23-Nov-98|As a young boy, L...|        99|\n",
            "|      1|   5379|   1.0|The Legend of Zel...|   23-Nov-98|As a young boy, L...|        99|\n",
            "|      1|   5461|   0.6|The Legend of Zel...|   23-Nov-98|As a young boy, L...|        99|\n",
            "|      1|   5885|   1.0|The Legend of Zel...|   23-Nov-98|As a young boy, L...|        99|\n",
            "|      1|   6630|   1.0|The Legend of Zel...|   23-Nov-98|As a young boy, L...|        99|\n",
            "|      1|   7563|   0.6|The Legend of Zel...|   23-Nov-98|As a young boy, L...|        99|\n",
            "|      1|   9246|   0.2|The Legend of Zel...|   23-Nov-98|As a young boy, L...|        99|\n",
            "|      1|  10140|   0.8|The Legend of Zel...|   23-Nov-98|As a young boy, L...|        99|\n",
            "|      1|  10146|   1.0|The Legend of Zel...|   23-Nov-98|As a young boy, L...|        99|\n",
            "|      1|  10246|   0.8|The Legend of Zel...|   23-Nov-98|As a young boy, L...|        99|\n",
            "|      1|  10335|   0.8|The Legend of Zel...|   23-Nov-98|As a young boy, L...|        99|\n",
            "+-------+-------+------+--------------------+------------+--------------------+----------+\n",
            "only showing top 20 rows\n",
            "\n"
          ]
        }
      ],
      "source": [
        "aggregate_data = spark.sql(\"SELECT Games.game_id, Ratings.user_id, Ratings.rating, Games.name, Games.release_date, Games.summary, Games.meta_score FROM Ratings INNER JOIN Games On Ratings.game_id = Games.game_id\")\n",
        "aggregate_data.show()\n",
        "aggregate_data_normal = spark.sql(\"SELECT Games.game_id, Ratings.user_id, Ratings.rating / 5 AS rating , Games.name, Games.release_date, Games.summary, Games.meta_score FROM Ratings INNER JOIN Games On Ratings.game_id = Games.game_id\")\n",
        "aggregate_data_normal.show()\n"
      ]
    },
    {
      "cell_type": "markdown",
      "source": [
        "\n",
        "<div align=\"right\" dir=\"rtl\">\n",
        "حال لازم است که دیتاستمان را به دو بخش تست و آموزش تقسیم کنیم. برای این کار 80 درصد از داده¬ها را برای آموزش و 20 درصد را برای تست قرار دادیم که طبق بررسی¬هایی که انجام دادیم نتایج مطلوبی را به ما ارائه می¬داد\n",
        "</div>\n"
      ],
      "metadata": {
        "id": "P048ugn2QyES"
      }
    },
    {
      "cell_type": "code",
      "execution_count": 12,
      "metadata": {
        "id": "9ERYEH59cBEt"
      },
      "outputs": [],
      "source": [
        "(train_dataset, test_dataset) = aggregate_data.randomSplit([0.8, 0.2], seed= 42)"
      ]
    },
    {
      "cell_type": "markdown",
      "source": [
        "\n",
        "<div align=\"right\" dir=\"rtl\">\n",
        "حال لازم است که پارامتر¬های لازم برای انجام توصیه توسط ALS را مشخص نماییم که این پارارمتر¬ها شامل تعداد تکرار، پارامتر رگرسیون و تعیین user و آیتم مورد بررسی و معیار rating است\n",
        "</div>\n"
      ],
      "metadata": {
        "id": "r6foYR_pRP3R"
      }
    },
    {
      "cell_type": "code",
      "execution_count": 13,
      "metadata": {
        "id": "FU78T7VFdb2D"
      },
      "outputs": [],
      "source": [
        "als_factorization = ALS(maxIter= 10, regParam= 0.1, itemCol= \"game_id\", userCol=\"user_id\", ratingCol= \"rating\")"
      ]
    },
    {
      "cell_type": "markdown",
      "source": [
        "\n",
        "<div align=\"right\" dir=\"rtl\">\n",
        "حال در رویکرد collaborative filtering ما لازم است که سطر¬هایی که دارای مقادیر خالی هستند (Nan) را دراپ کنیم که با دستور زیر این کار امکان¬پذیر می¬باشد\n",
        "</div>\n",
        " \n"
      ],
      "metadata": {
        "id": "0iSlKamhRYIO"
      }
    },
    {
      "cell_type": "code",
      "execution_count": 14,
      "metadata": {
        "id": "hPJbDJZsqOYj",
        "colab": {
          "base_uri": "https://localhost:8080/"
        },
        "outputId": "bd5c46dc-9d29-4e59-dde4-3fa1512241a6"
      },
      "outputs": [
        {
          "output_type": "execute_result",
          "data": {
            "text/plain": [
              "ALS_5c0b2a35e105"
            ]
          },
          "metadata": {},
          "execution_count": 14
        }
      ],
      "source": [
        "als_factorization.setColdStartStrategy(\"drop\")"
      ]
    },
    {
      "cell_type": "markdown",
      "source": [
        "\n",
        "<div align=\"right\" dir=\"rtl\">\n",
        "در این خط نیز مدلمان را براساس داده¬های آموزش فیت می¬کنیم.\n",
        "</div>\n"
      ],
      "metadata": {
        "id": "sw7_Pcv4R74i"
      }
    },
    {
      "cell_type": "code",
      "execution_count": 15,
      "metadata": {
        "id": "-Y8cHONLdQq0"
      },
      "outputs": [],
      "source": [
        "predictor_model = als_factorization.fit(train_dataset)"
      ]
    },
    {
      "cell_type": "markdown",
      "source": [
        "\n",
        "<div align=\"right\" dir=\"rtl\">\n",
        "حال بعد از فیت شدن مدل لازم است که یک ترنسفورم برروی داده¬های تستمان براساس داده¬های آموزشی¬مان داشته باشیم\n",
        "</div>\n",
        " \n"
      ],
      "metadata": {
        "id": "uPmxUe_iSPLq"
      }
    },
    {
      "cell_type": "code",
      "execution_count": 16,
      "metadata": {
        "id": "vl0i0SWmjSYR"
      },
      "outputs": [],
      "source": [
        "predictor = predictor_model.transform(test_dataset)"
      ]
    },
    {
      "cell_type": "markdown",
      "source": [
        "\n",
        "<div align=\"right\" dir=\"rtl\">\n",
        "حال میخواهیم نتایج پیش¬بینی شده را مشاهده کنیم \n",
        "</div>\n",
        " \n"
      ],
      "metadata": {
        "id": "PNNI40UJSXDX"
      }
    },
    {
      "cell_type": "code",
      "execution_count": 17,
      "metadata": {
        "id": "tKZszlw2ju7B",
        "colab": {
          "base_uri": "https://localhost:8080/"
        },
        "outputId": "722e4614-39de-4cd8-e568-d7ac7bb7831a"
      },
      "outputs": [
        {
          "output_type": "stream",
          "name": "stdout",
          "text": [
            "+-------+-------+------+--------------------+------------+--------------------+--------------------+----------+\n",
            "|game_id|user_id|rating|                name|release_date|             summary|          meta_score|prediction|\n",
            "+-------+-------+------+--------------------+------------+--------------------+--------------------+----------+\n",
            "|      3|  32592|     5| Grand Theft Auto IV|   29-Apr-08|\"[Metacritic's 20...| fresh off the bo...| 2.9819381|\n",
            "|      7|  19984|     5|Red Dead Redempti...|   26-Oct-18|Developed by the ...|                  97|  4.704021|\n",
            "|     20|  32592|     4|            BioShock|   21-Aug-07|\"[Metacritic's 20...|\"\" \"\"monster-clos...|  3.737324|\n",
            "|     22|  19984|     5|Uncharted 2: Amon...|   13-Oct-09|Fortune hunter Na...|                  96|  4.934289|\n",
            "|     26|  35982|     2|            Tekken 3|   29-Apr-98|An ancient evil f...|                  96| 2.2924564|\n",
            "|     27|  32592|     4|       Mass Effect 2|   26-Jan-10|The Mass Effect t...|                  96| 4.3216233|\n",
            "|     38|  35982|     3|     LittleBigPlanet|   27-Oct-08|In LittleBigPlane...|                  95| 3.2230718|\n",
            "|     44|   1088|     1|The Legend of Zel...|   25-Oct-00|Thrown into a par...|                  95| 2.3384688|\n",
            "|     46|  32592|     4|     Madden NFL 2003|   12-Aug-02|Take Your Game On...|                  95| 3.7070131|\n",
            "|     47|  19984|     5|     Persona 5 Royal|   31-Mar-20|Prepare for an al...|                  95| 5.1608963|\n",
            "|     51|  19984|     5|Metal Gear Solid ...|    1-Sep-15|Following the pro...|                  95|   4.78793|\n",
            "|     54|  35982|     3|    Final Fantasy IX|   13-Nov-00|The last Final Fa...|                  94| 4.1772065|\n",
            "|     56|  32592|     4|          God of War|   20-Apr-18|His vengeance aga...|                  94|  3.300269|\n",
            "|     72|   1088|     3|Super Mario Advan...|   21-Oct-03|A combination of ...|                  94| 3.2528372|\n",
            "|     77|  19984|     4|Resident Evil Cod...|   29-Feb-00|Resident Evil Cod...|                  94|  5.104266|\n",
            "|     81|   3918|     5|Metal Gear Solid ...|   12-Jun-08|\"Metal Gear Solid...|\"\" a high-tech su...|  3.399396|\n",
            "|     94|  35982|     5|Grand Theft Auto:...|   17-Mar-09|Grand Theft Auto:...|                  93|  4.536268|\n",
            "|     99|   6658|     3|Divinity: Origina...|   14-Sep-17|Master deep, tact...|                  93| 2.6312127|\n",
            "|    100|  32592|     3|Unreal Tournament...|   16-Mar-04|Reload, rev up an...|                  93|  3.890071|\n",
            "|    106|   3918|     4|                 SSX|   30-Oct-00|Remember when sno...|                  93| 3.0714664|\n",
            "+-------+-------+------+--------------------+------------+--------------------+--------------------+----------+\n",
            "only showing top 20 rows\n",
            "\n"
          ]
        }
      ],
      "source": [
        "predictor.show()"
      ]
    },
    {
      "cell_type": "markdown",
      "source": [
        "\n",
        "<div align=\"right\" dir=\"rtl\">\n",
        "حال لازم است که میزان خطای توصیه¬گرمان در مقادیر پیش¬بینی شده را محاسبه کنیم. برای این کار از معیار خطای RMSE استفاده نمودیم که مخفف Root Mean Square Error می¬باشد\n",
        "</div>\n",
        " \n"
      ],
      "metadata": {
        "id": "RCzt_cw2UHPt"
      }
    },
    {
      "cell_type": "code",
      "execution_count": 19,
      "metadata": {
        "id": "UoMcyImdmB4G"
      },
      "outputs": [],
      "source": [
        "evaluator_model = RegressionEvaluator(metricName= \"rmse\", labelCol=\"rating\", predictionCol=\"prediction\")"
      ]
    },
    {
      "cell_type": "code",
      "execution_count": 20,
      "metadata": {
        "id": "DtuqGvb_pRSs",
        "colab": {
          "base_uri": "https://localhost:8080/"
        },
        "outputId": "241c49b2-f628-4ec3-80da-c6b6adaf55ed"
      },
      "outputs": [
        {
          "output_type": "stream",
          "name": "stdout",
          "text": [
            "RMSE Error rate: 0.9020742770912595\n"
          ]
        }
      ],
      "source": [
        "rmse = evaluator_model.evaluate(predictor)\n",
        "print(f\"RMSE Error rate: {rmse}\")"
      ]
    },
    {
      "cell_type": "markdown",
      "source": [
        "\n",
        "<div align=\"right\" dir=\"rtl\">\n",
        "حال در این بخش تابعی طراحی کردیم که آیدی کاربر را می¬گیرد و ریتینگ¬های پیش¬بینی شده توسط آن کاربر برای بازی¬ها را به شکل یک RDD به ما برمی¬گرداند\n",
        "</div>\n",
        "\n"
      ],
      "metadata": {
        "id": "kdFln1l8VuGX"
      }
    },
    {
      "cell_type": "code",
      "execution_count": 21,
      "metadata": {
        "id": "dmJm4SboudKv",
        "colab": {
          "base_uri": "https://localhost:8080/"
        },
        "outputId": "423cf02b-6e04-4045-dd03-3e9f7282180b"
      },
      "outputs": [
        {
          "output_type": "stream",
          "name": "stdout",
          "text": [
            "+-------+-------+--------------------+\n",
            "|game_id|user_id|                name|\n",
            "+-------+-------+--------------------+\n",
            "|     17|    314|The House in Fata...|\n",
            "|     35|    314|Baldur's Gate II:...|\n",
            "|     51|    314|Metal Gear Solid ...|\n",
            "|     56|    314|          God of War|\n",
            "|     66|    314|The Elder Scrolls...|\n",
            "|     84|    314|Sid Meier's Civil...|\n",
            "|    101|    314|Ori and the Will ...|\n",
            "|    104|    314|Super Mario 3D World|\n",
            "|    125|    314|          Beat Saber|\n",
            "|    140|    314|World Soccer Winn...|\n",
            "|    159|    314|Super Street Figh...|\n",
            "|    183|    314|Unreal Tournament...|\n",
            "|    185|    314|        Wave Race 64|\n",
            "|    239|    314|     Forza Horizon 3|\n",
            "|    267|    314|God of War Collec...|\n",
            "|    327|    314|            NHL 2001|\n",
            "|    342|    314| Panzer Dragoon Orta|\n",
            "|    352|    314|WWF SmackDown! 2:...|\n",
            "|    525|    314|  Railroad Tycoon II|\n",
            "|    923|    314|Dragon Quest Buil...|\n",
            "+-------+-------+--------------------+\n",
            "only showing top 20 rows\n",
            "\n"
          ]
        }
      ],
      "source": [
        "def userFilter (test, id):\n",
        "  return test.filter(test['user_id'] == str(id)).select([\"game_id\", 'user_id','name'])\n",
        "\n",
        "\n",
        "specific_user = userFilter(test_dataset, 314)\n",
        "specific_user.show()\n"
      ]
    },
    {
      "cell_type": "markdown",
      "source": [
        "\n",
        "<div align=\"right\" dir=\"rtl\">\n",
        "در نهایت برای یکی از کاربران که آیدی آن 314 است اینکار را انجام می¬دهیم و نتایج پیش¬بینی شده را مرتب می¬کنیم تا لیست بازی¬هایی که کاربر امکان دارد بیشترین امتیاز را بدهد به دست می¬آوریم تا از آن جهت توصیه کردن استفاده نماییم\n",
        "</div>\n",
        "\n"
      ],
      "metadata": {
        "id": "fUWQZMk1WOqE"
      }
    },
    {
      "cell_type": "code",
      "execution_count": 22,
      "metadata": {
        "id": "oSzttkkl1Ytv",
        "colab": {
          "base_uri": "https://localhost:8080/"
        },
        "outputId": "7cc54a48-1918-4717-af8a-05e48ea69e4c"
      },
      "outputs": [
        {
          "output_type": "stream",
          "name": "stdout",
          "text": [
            "+-------+-------+--------------------+----------+\n",
            "|game_id|user_id|                name|prediction|\n",
            "+-------+-------+--------------------+----------+\n",
            "|    267|    314|God of War Collec...| 4.1655264|\n",
            "|    140|    314|World Soccer Winn...| 3.9897256|\n",
            "|   3712|    314|Fluidity: Spin Cycle| 3.8177567|\n",
            "|   4720|    314|Naruto Shippuden:...| 3.8161302|\n",
            "|     17|    314|The House in Fata...| 3.7494202|\n",
            "|   1838|    314|           FIFA 2001|  3.724308|\n",
            "|    185|    314|        Wave Race 64| 3.6927977|\n",
            "|    352|    314|WWF SmackDown! 2:...|  3.659255|\n",
            "|    327|    314|            NHL 2001| 3.6468258|\n",
            "|    101|    314|Ori and the Will ...|  3.631939|\n",
            "|   3355|    314|               Black|  3.629798|\n",
            "|    125|    314|          Beat Saber| 3.6193683|\n",
            "|     66|    314|The Elder Scrolls...| 3.6066704|\n",
            "|    159|    314|Super Street Figh...| 3.5979755|\n",
            "|    923|    314|Dragon Quest Buil...| 3.5905871|\n",
            "|    183|    314|Unreal Tournament...| 3.5476847|\n",
            "|    239|    314|     Forza Horizon 3|  3.538364|\n",
            "|   3914|    314|Boktai 2: Solar B...| 3.5314364|\n",
            "|   2599|    314|   Pinball Fantasies|  3.529896|\n",
            "|    104|    314|Super Mario 3D World| 3.4919891|\n",
            "+-------+-------+--------------------+----------+\n",
            "only showing top 20 rows\n",
            "\n"
          ]
        }
      ],
      "source": [
        "specific_user = userFilter(test_dataset, 314)\n",
        "result_prediction = predictor_model.transform(specific_user)\n",
        "result_prediction.orderBy(\"prediction\", ascending = False).show()"
      ]
    },
    {
      "cell_type": "code",
      "execution_count": 22,
      "metadata": {
        "id": "onF2mpKw4PiX"
      },
      "outputs": [],
      "source": []
    }
  ],
  "metadata": {
    "colab": {
      "provenance": []
    },
    "kernelspec": {
      "display_name": "Python 3",
      "name": "python3"
    },
    "language_info": {
      "name": "python"
    }
  },
  "nbformat": 4,
  "nbformat_minor": 0
}